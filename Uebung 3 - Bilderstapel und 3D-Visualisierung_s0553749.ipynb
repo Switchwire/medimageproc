{
 "cells": [
  {
   "cell_type": "markdown",
   "metadata": {},
   "source": [
    "# Übung 3 - Bilderstapel und  3D-Visualisierung\n",
    "***"
   ]
  },
  {
   "cell_type": "markdown",
   "metadata": {},
   "source": [
    "**Name:** Sergey Wolf\n",
    "<br>\n",
    "**Matr.-Nr.:** s0553749\n",
    "\n",
    "---"
   ]
  },
  {
   "cell_type": "markdown",
   "metadata": {},
   "source": [
    "## Bearbeitungszeitraum\n",
    "\n",
    "**Bearbeitungsbegin:** Mo, 19.06.2017\n",
    "<br>\n",
    "**Abgabe:** Mo, 10.07.2017, 12:00 Uhr\n",
    "\n",
    "---"
   ]
  },
  {
   "cell_type": "markdown",
   "metadata": {},
   "source": [
    "## Aufgabenbeschreibung"
   ]
  },
  {
   "cell_type": "markdown",
   "metadata": {},
   "source": [
    "Die Ergebnisse von tomographischen Bildgebungsverfahren (z.B. Computertomographie, Magnetresonanztomographie oder Positronen-Emissionstomographie) sind Stapel von z.T. mehreren hundert Schnitt-/Schichtbildern primär in der Transversalebene.\n",
    "Aus diesen *Originalbildern* können weitere Ebenen für eine Visualisierung berechnet werden. Der Bildstapel einer Ebene kann jedoch auch Basis einer 3D-Visualisierung sein.\n",
    "\n",
    "Innerhalb dieser Übung sollen zwei Ziele erreicht werden:\n",
    "1. Umgang mit Bilderstapeln und deren Visualisierung sowie die Verarbeitung der einzelnen Schichtbilder als Vorbereitung einer 3D-Rekonstruktion\n",
    "2. Rekonstruktion und Visualisierung eines 3D-Modells auf Basis eines (vorverarbeiteten) Bildstapels \n",
    "\n",
    "Den in dieser Übung zu verwendenden Bildstapel laden Sie bitte unter folgendem Link herunter: <https://mri.radiology.uiowa.edu/VHDicom/VHFCT1mm/VHF-Head.tar.gz>\n",
    "\n",
    "Der Datensatz ist den *CT Datasets (Visible Female CT Datasets)* des *Visible Human Project* (<https://www.nlm.nih.gov/research/visible/visible_human.html>) entnommen."
   ]
  },
  {
   "cell_type": "markdown",
   "metadata": {},
   "source": [
    "### Aufgaben:\n",
    "\n",
    "\n",
    "### Wichtige Hinweise zur Übung\n",
    "\n",
    "- Für die Realisierung aller Aufgaben sind externe Bibliotheken ausdrücklich zugelassen.\n",
    "- Sollten Sie Bibliotheken verwenden, die sich nicht mittels `pip` oder `conda` intallieren lassen bzw. externe Abhängigkeiten haben (z.B. OpenCV, VTK), müssen Sie Ihre Lösung innerhalb der Übung an Ihrem Arbeitsplatz vorstellen.\n",
    "- Die Vorstellung muss bis spätestens **10.07.2017** erfolgt sein.\n",
    "- Das Notebook wird parallel wie gewohnt über Moodle abgegeben.\n",
    "- Listen Sie vor jeder Aufgabe die von Ihnen verwendeten externen Bibliotheken auf.\n",
    "- Sollte keine Vorstellung erfolgen, werden nur die über Moodle abgegebenen und mit den *Standard-Paketen* (siehe Foliensatz **Organisatorisches**) bzw. nachinstallierbaren Paketen (mittels `pip` oder `conda`) ausführbaren Teile Ihrer Lösung bewertet.\n",
    "\n",
    "\n",
    "**1. Einlesen und Visualisieren des DICOM-Bildstapels**\n",
    "\n",
    "Lesen Sie alle DICOM-Bilder des Verzeichnisses ein.\n",
    "Visualisieren Sie den Bildstapel mit Hilfe eines interaktiven Sliders über den durch den Bildstapel *gescrollt* werden kann. \n",
    "\n",
    "**Hinweise:**\n",
    "- Verwenden Sie die Ihnen bekannte Bibliothek `pydicom` zum Einlesen der DICOM-Dateien.\n",
    "- Nutzen sie das Paket `ipywidgets` zur Realisierung der interaktiven Elemente.\n",
    "\n",
    "\n",
    "**2. Konvertierung des DICOM-Bildstapels in Binärbilder**\n",
    "\n",
    "Implementieren sie eine Funktion zur Konvertierung eines Bildes in das Binärformat anhand eines gegebenen Schwellenwertes.\n",
    "\n",
    "In CT-DICOM-Bildern zeichnen sich die Bereiche des Untersuchungsobjektes über vergleichsweise hohe Signalwerte aus. In Gegensatz dazu ist der Hintergrund durch niedrige Signalwerte gekennzeichnet. Mit Hilfe der binären Konvertierung kann das Objekt vom Hintergrund getrennt werden.\n",
    "\n",
    "Ihre Funktion soll die Pixel des Bildes anhand eines Vergleichs mit einem gegebenen Schwellenwert (Funktionsparameter) dem Hintergrund bzw. dem Objekt zuordnen:\n",
    "- Pixelwert < Schwellenwert: Pixel ist Hintergrundpixel\n",
    "- Pixelwert >= Schwellenwert: Pixel ist Objektpixel\n",
    "\n",
    "Wenden Sie Ihre Funktion auf alle Bilder des Stapels an. Wählen Sie hierzu einen Schwellenwert von **250**.\n",
    "\n",
    "Visualisieren Sie den konvertierten Bilderstapel analog zu **1.** (der Hintergrund soll in schwarz, das Objekt in weiß dargestellt werden).\n",
    "\n",
    "\n",
    "**3. Optimieren der Binärbilder**\n",
    "\n",
    "Anhand der Visualisierung in **2.** ist zu erkennen, dass die Bilder z.T. kleine Artefakte im Hintergrund bzw. *Löcher* innerhalb des Objektes aufweisen. Der Objektrand ist teilweise sehr *ausgefranst*. Auf einigen Bildern sind Bereiche des Untersuchungstisches im Bild vorhanden.\n",
    "\n",
    "Versuchen Sie diese *ungünstigen* Eigenschaften der Bilder auszugleichen.\n",
    "\n",
    "Möglichkeiten wären:\n",
    "1. Morphologische Operationen (Erosion, Dilatation, Öffnung, Schließung) zur Glättung der Objektränder, Schließung kleinerer Löcher im Objekt oder Entfernung kleinerer Artefakte\n",
    "    - Achten Sie auf die Reihenfolge der Operationen und deren Kombinationsmöglichkeiten\n",
    "2. Definieren eines globalen Objektbereichs (Rechteck im Bild). Alle Pixel außerhalb sind automatisch Hintergrund.\n",
    "    - Achten Sie darauf, dass Sie keinen Teil des korrekten Objektes versehentlich entfernen.\n",
    "3. Detektion der Außenkontur des Objektes und anschließende Füllung des umschloßenen Bereichs.\n",
    "    - Dieser Schritt sollte der letzte Verarbeitungsschritt sein, da eine glatte Außenkontur sowie entfernte Artefakte bzw. *ungewollte* Objekte die Umsetzung stark vereinfachen.\n",
    "\n",
    "Setzen Sie die ersten **beiden** Punkte der Möglichkeitenliste um. Die Umsetzung von Punkt 3 wird als Bonus gewertet.\n",
    "\n",
    "Visualisieren Sie den optimierten Binärbildstapel analog zu **1.**\n",
    "\n",
    "\n",
    "**4. 3D-Rekonstruktion**\n",
    "\n",
    "Basierend auf den Binärbildern aus **3.** sollen Sie ein 3D-Modell des Datensatzes rekonstruieren.\n",
    "\n",
    "Grundsätzlich stehen für eine Rekonstruktion verschiedene Ansätze zur Auswahl, u.a.:\n",
    "- Detektion der Außenkonturen der Objekte und anschließende Triangulation der Oberfläche (Bildung von Dreiecken).\n",
    "- Anwendung des Marching-Cubes-Algorithmus\n",
    "- Konstruktion eines Volumenmodells aus den Objektvoxeln der gestapelten Schichten. \n",
    "\n",
    "Der Ansatz, den Sie verfolgen wollen, bleibt Ihnen überlassen. Sollten Sie in **3.** bereits zur Erreichung der Bonuspunkte die Konturen detektiert haben, können Sie diese natürlich weiterverwenden.\n",
    "\n",
    "**Wichtig:**\n",
    "- Erläutern Sie vor Ihrer Implementierung **kurz** den von Ihnen gewählten Ansatz.\n",
    "\n",
    "Ihr Ergebnis sollen Sie als 3D-Plot im Notebook visualisieren. Ein *statisches* Perspektivbild (leichte Neigung auf allen Achsen) reicht hierfür aus.\n",
    "\n",
    "** Hinweise:**\n",
    "- Die Bilder innerhalb des Stapels sind von unten (Teil des oberen Brustkorbs) nach oben (Schädeldecke) über die Dateinamen sortiert (kleine Nummern liegen im Stapel unten, große Nummer oben). Berücksichtigen Sie dies in Ihrer Rekonstruktion (der Kopf soll im 3D-Modell oben sein). \n",
    "- Je nach verwendeter Bibliothek für die Rekonstruktion kann es möglich sein, dass die Visualisierung nicht mittels `matplotlib` umgesetzt werden kann. Sollten Sie eine andere Bibliothek für die Visualisierung verwenden, vermerken Sie dies.\n",
    "\n",
    "\n",
    "**Generelle Hinweise zur Bearbeitung:** \n",
    "\n",
    "Für die Visualisierung soll das `matplotlib`-Paket verwendet werden. Alle Bilder sollen *inline* in diesem Notebook ausgegeben werden. Ausnahmen sind bei den jeweiligen Aufgaben genannt.\n",
    "\n",
    "**Hinweise für Bonuspunkte**\n",
    "\n",
    "Folgende, zusätzliche Funktionen sind für das Erreichen der Bonuspunkte möglich:\n",
    "\n",
    "- Punkt 3 der Optimierungsliste in **3.**\n",
    "- Weitere Optimierungen der Binärbilder in **3.**\n",
    "- Je nach verwendeter Visualisierung in **4.** könnte die Rotation des 3D-Modells um die Achsen interaktiv festgelegt werden. Möglich wären z.B. jeweils ein Slider für x-, y- und z-Achse.\n",
    "\n",
    "Weitere Bonus-Funktionen sind nach Rücksprache ebenfalls möglich.\n",
    "\n",
    "Für die Realisierung der Bonus-Funktion nutzen Sie bitte zusätzliche Notebook-Zellen (Ausnahme in **3.**) unterhalb des *Pflichtteils* der Übung, so dass die Bonus-Funktion keine Randeffekte im *Pflichtteil* hervorruft.\n",
    "\n",
    "Stellen Sie Ihrer Bonus-Implementierung eine **kurze** Erläuterung der umgesetzten Funktion voraus.\n",
    "\n",
    "Für das Erreichen der Bonuspunkte genügt die Umsetzung **einer** der genannten bzw. selbst ausgewählten Funktionalitäten!\n",
    "\n",
    "**Weitere Hinweise zur Abgabe**\n",
    "\n",
    "- Füllen Sie unbedingt die erste Zelle unterhalb der Überschrift mit Name und Matr.-Nr. aus!\n",
    "- Ergänzen Sie den Dateinamen des Notebooks vor der Abgabe um `_` und Ihre Matr.-Nr. (`Uebung 3 - Bilderstapel und 3D-Visualisierung_s0500000.ipynb`)\n",
    "- Entfernen Sie vor dem Upload alle Ausgaben aus dem Notebook!\n",
    "\n",
    "**Hinweise zur Benotung**\n",
    "\n",
    "- Die Aufgabe wird nach dem üblichen Notenschema von 1,0 bis 5,0 bewertet.\n",
    "- Diese Aufgabe wird mit 40% in der Gesamtnote der Übung gewichtet.\n",
    "\n",
    "### Viel Erfolg!"
   ]
  },
  {
   "cell_type": "markdown",
   "metadata": {},
   "source": [
    "\n",
    "**1. Einlesen und Visualisieren des DICOM-Bildstapels**\n"
   ]
  },
  {
   "cell_type": "code",
   "execution_count": null,
   "metadata": {},
   "outputs": [],
   "source": [
    "import dicom\n",
    "import os\n",
    "import numpy as np\n",
    "from matplotlib import pyplot, cm\n",
    "import ipywidgets as widgets\n",
    "from ipywidgets import interact, fixed\n",
    "import array2image as arr2img\n",
    "from scipy.ndimage import morphology\n",
    "\n",
    "PathDicom = \".\\VHF-Head\\Head\"\n",
    "lstFilesDCM = []  # create an empty list\n",
    "for dirName, subdirList, fileList in os.walk(PathDicom):\n",
    "    for filename in fileList:\n",
    "        if \".dcm\" in filename.lower():  # check whether the file's DICOM\n",
    "            lstFilesDCM.append(os.path.join(dirName,filename))\n",
    "\n",
    "# loop through all the DICOM files\n",
    "#Ein Array wird definiert, um die einzelnen Bilder zu speichern (x ; y Pixel, z Bilder (in dem fall Laenge von lstFilesDCM))\n",
    "arrayDicom = np.zeros((512,512,len(lstFilesDCM)))\n",
    "\n",
    "# Get ref file\n",
    "#RefDs = dicom.read_file(lstFilesDCM[0])\n",
    "\n",
    "#Ein Array wird definiert, um die einzelnen Bilder zu speichern (x ; y Pixel, z Bilder (in dem fall Laenge von lstFilesDCM))\n",
    "#arrayDicom = np.zeros((int(RefDs.Rows),int(RefDs.Columns),len(lstFilesDCM)))\n",
    "\n",
    "for filenameDCM in lstFilesDCM:\n",
    "    # read the file\n",
    "    ds = dicom.read_file(filenameDCM)\n",
    "    # store the raw image data\n",
    "    arrayDicom[:, :, lstFilesDCM.index(filenameDCM)] = ds.pixel_array\n",
    "    \n",
    "def visualize(arrayDicom,isBinary=False):\n",
    "    \n",
    "    def updateSlice(pixel_array,slice_number):\n",
    "        return arr2img.numpy_array_2_image(pixel_array[:, :, slice_number])\n",
    "    \n",
    "    #Konvertiert die Binaer formatierten Bilder in darstellbare Bilder 1-> 255(weil 0 weis sein sollte,\n",
    "    #jedoch der pixelwert 1 schwarz ist und wir es deshalb auf 255 setzen)\n",
    "    def bin2black_white_image(arrayDicom):\n",
    "        arrayDicomCopy=arrayDicom.copy()\n",
    "        arrayDicomCopy[arrayDicomCopy>0]=255\n",
    "        return arrayDicomCopy\n",
    "\n",
    "    if isBinary:\n",
    "        arrayDicom=bin2black_white_image(arrayDicom)\n",
    "\n",
    "    #Slider erstellen\n",
    "    slice_slider = widgets.IntSlider(min=0, max=arrayDicom.shape[2]-1, step=1)\n",
    "\n",
    "\n",
    "    # Interaktives Widget initialisieren und ausführen\n",
    "    # image=fixed(img) - der Parameter image der Funktion edit_image soll nicht verändert werden\n",
    "    # \n",
    "    interact(updateSlice, pixel_array=fixed(arrayDicom), slice_number=slice_slider);\n",
    "    \n",
    "    \n",
    "visualize(arrayDicom)\n"
   ]
  },
  {
   "cell_type": "markdown",
   "metadata": {
    "collapsed": true
   },
   "source": [
    "\n",
    "**2. Konvertierung des DICOM-Bildstapels in Binärbilder**\n"
   ]
  },
  {
   "cell_type": "code",
   "execution_count": null,
   "metadata": {
    "collapsed": true
   },
   "outputs": [],
   "source": [
    "#Konvertiert die Bilder in Binaerformat(0 : Hintergrund, 1: Bild)\n",
    "def img2bin(arrayDicom,threshhold=250):\n",
    "    arrayDicomCopy=arrayDicom.copy()\n",
    "    for i in range(arrayDicomCopy.shape[2]):\n",
    "        current=arrayDicomCopy[:,:,i]\n",
    "        current[current<threshhold]=0\n",
    "        current[current>= threshhold]=1\n",
    "    return arrayDicomCopy"
   ]
  },
  {
   "cell_type": "code",
   "execution_count": null,
   "metadata": {
    "scrolled": true
   },
   "outputs": [],
   "source": [
    "#Visualizierung des nicht optimierten binDicom Arrays (mit Artefakten)\n",
    "binDicom=img2bin(arrayDicom)\n",
    "visualize(binDicom,isBinary=True)"
   ]
  },
  {
   "cell_type": "markdown",
   "metadata": {},
   "source": [
    "\n",
    "**3. Optimieren der Binärbilder**\n",
    "\n",
    "**1) Morphologische Operationen (Erosion, Dilatation, Öffnung, Schließung) zur Glättung der Objektränder, Schließung kleinerer Löcher im Objekt oder Entfernung kleinerer Artefakte**\n"
   ]
  },
  {
   "cell_type": "code",
   "execution_count": null,
   "metadata": {
    "collapsed": true
   },
   "outputs": [],
   "source": [
    "#Anwendung der 4 geforderten Optimierungsalgorithmen auf das zuvor berechnete Array binDicom\n",
    "a=morphology.binary_erosion(binDicom).astype(binDicom.dtype)\n",
    "a=morphology.binary_dilation(a)\n",
    "a=morphology.binary_opening(a)\n",
    "a=morphology.binary_closing(a).astype(int)\n"
   ]
  },
  {
   "cell_type": "markdown",
   "metadata": {},
   "source": [
    "**Visualisierung des optimierten Binaerbildstapels: **\n"
   ]
  },
  {
   "cell_type": "code",
   "execution_count": null,
   "metadata": {},
   "outputs": [],
   "source": [
    "#Visualisierung des optimierten Binaerbildstapels\n",
    "visualize(a,isBinary=True)"
   ]
  },
  {
   "cell_type": "markdown",
   "metadata": {},
   "source": [
    "**2) Definieren eines globalen Objektbereichs (Rechteck im Bild). Alle Pixel außerhalb sind automatisch Hintergrund.**"
   ]
  },
  {
   "cell_type": "code",
   "execution_count": null,
   "metadata": {
    "collapsed": true,
    "scrolled": true
   },
   "outputs": [],
   "source": [
    "#Hier wird das Objekt in ein Rechteck geschlossen und gezeichnet. Zur besseren Funktionsweise von ContourFind wurde\n",
    "#jeweils ein Abstand von 5 Pixeln je Seite genommen\n",
    "#hardcoded crop out the table\n",
    "a=a[0:375,:,:]\n",
    "\n",
    "#return the nonzero indices for each axis.  \n",
    "x_i,y_i,_=np.nonzero(a)\n",
    "\n",
    "#the minimum value is where the first object pixel(1) starts \n",
    "x_from=np.min(x_i)-5\n",
    "#the maximum value is where the last object pixel(1) ends \n",
    "x_to=np.max(x_i)+5\n",
    "\n",
    "y_from=np.min(y_i)-5\n",
    "y_to=np.max(y_i)+5\n",
    "arnew=a[x_from:x_to,y_from:y_to,:]"
   ]
  },
  {
   "cell_type": "code",
   "execution_count": null,
   "metadata": {
    "scrolled": true
   },
   "outputs": [],
   "source": [
    "visualize(arnew,isBinary=True)"
   ]
  },
  {
   "cell_type": "markdown",
   "metadata": {},
   "source": [
    "    \n",
    "**3) Detektion der Außenkontur des Objektes und anschließende Füllung des umschloßenen Bereichs.**\n",
    "   "
   ]
  },
  {
   "cell_type": "code",
   "execution_count": null,
   "metadata": {
    "scrolled": true
   },
   "outputs": [],
   "source": [
    "import numpy as np\n",
    "import matplotlib.pyplot as plt\n",
    "from skimage import measure\n",
    "#for i in range(arnew.shape[2]):\n",
    "#Funktion zum Finden der Konturen des uebergebenen Objektes, in unserem Fall Array[0]. Sortierung nach der Laenge\n",
    "def showFirstImage():\n",
    "    image=arnew[:,:,1]\n",
    "    contours = measure.find_contours(image,0.8)\n",
    "    contours.sort(key=len, reverse=True)\n",
    "    fig, ax = plt.subplots()\n",
    "   \n",
    "    for n, contour in enumerate(contours):\n",
    "        ax.plot(contours[0][:, 1], contours[0][:, 0]*-1, linewidth=2)\n",
    "\n",
    "    ax.axis('image')\n",
    "    ax.set_xticks([])\n",
    "    ax.set_yticks([])\n",
    "    plt.show()\n",
    "showFirstImage()"
   ]
  },
  {
   "cell_type": "markdown",
   "metadata": {},
   "source": [
    "**4. 3D-Rekonstruktion**\n",
    "\n",
    "Basierend auf den Binärbildern aus **3.** sollen Sie ein 3D-Modell des Datensatzes rekonstruieren.\n",
    "\n",
    "Grundsätzlich stehen für eine Rekonstruktion verschiedene Ansätze zur Auswahl, u.a.:\n",
    "- Detektion der Außenkonturen der Objekte und anschließende Triangulation der Oberfläche (Bildung von Dreiecken).\n",
    "- Anwendung des Marching-Cubes-Algorithmus\n",
    "- Konstruktion eines Volumenmodells aus den Objektvoxeln der gestapelten Schichten. \n",
    "\n",
    "Der Ansatz, den Sie verfolgen wollen, bleibt Ihnen überlassen. Sollten Sie in **3.** bereits zur Erreichung der Bonuspunkte die Konturen detektiert haben, können Sie diese natürlich weiterverwenden."
   ]
  },
  {
   "cell_type": "code",
   "execution_count": null,
   "metadata": {},
   "outputs": [],
   "source": [
    "#Visualizierung von 184889 berechneten Bildpixeln, enthalten in arnew[] Laufzeit ~20 Sek\n",
    "from mpl_toolkits.mplot3d import Axes3D\n",
    "\n",
    "#Konturen der Objekte werden hier entdeckt und danach im 3D-Raum modelliert.\n",
    "\n",
    "def getAllContours(array):\n",
    "    x = np.array(0)\n",
    "    y = np.array(0)\n",
    "    z = np.array(0)\n",
    "    \n",
    "    for index in range(1,len(array[1,1,:])):\n",
    "        image = array[:,:,index]\n",
    "        contours = measure.find_contours(image,0.8)\n",
    "        contours.sort(key=len, reverse=True)\n",
    "        if(len(contours)>0):\n",
    "            x = np.append(x, contours[0][:, 0])\n",
    "            y = np.append(y, contours[0][:, 1])\n",
    "            z = np.append(z, [index]*len(contours[0]))\n",
    "    return x, y, z\n",
    "\n",
    "x, y, z = getAllContours(arnew)\n",
    "\n",
    "print(len(x))\n",
    "\n",
    "# plot\n",
    "fig = plt.figure()\n",
    "ax = fig.add_subplot(111, projection='3d')\n",
    "ax.scatter(x, y, z, c='red', marker=\"o\")\n",
    "plt.show()"
   ]
  },
  {
   "cell_type": "code",
   "execution_count": null,
   "metadata": {},
   "outputs": [],
   "source": [
    "# http://ipyvolume.readthedocs.io\n",
    "#Visualizierung des Arrays unter Zuhilfenahme der Bibliothek ipyvolume. Die Achsen sind mit der Maus Dreh-und-schwenkbar\n",
    "#Laufzeit Aufgabe 4 (3D Rekonstruktion) ~ 40 Sek\n",
    "import ipyvolume\n",
    "#level=[0.25, 0.75], opacity=0.03, level_width=0.1, data_min=0, data_max=1\n",
    "ipyvolume.quickscatter(x, y, z)"
   ]
  },
  {
   "cell_type": "code",
   "execution_count": null,
   "metadata": {
    "collapsed": true
   },
   "outputs": [],
   "source": []
  }
 ],
 "metadata": {
  "anaconda-cloud": {},
  "kernelspec": {
   "display_name": "Python 3",
   "language": "python",
   "name": "python3"
  },
  "language_info": {
   "codemirror_mode": {
    "name": "ipython",
    "version": 3
   },
   "file_extension": ".py",
   "mimetype": "text/x-python",
   "name": "python",
   "nbconvert_exporter": "python",
   "pygments_lexer": "ipython3",
   "version": "3.6.0"
  },
  "widgets": {
   "state": {
    "95c42085b4a74282aef40e7ff07c2804": {
     "views": [
      {
       "cell_index": 14
      }
     ]
    },
    "cc619d736e4342488e83fae51a7696cd": {
     "views": [
      {
       "cell_index": 17
      }
     ]
    },
    "e821ab522d3349abba31360aec9d5e47": {
     "views": [
      {
       "cell_index": 7
      }
     ]
    },
    "f510404da7374c8181ee900b16982b4c": {
     "views": [
      {
       "cell_index": 10
      }
     ]
    }
   },
   "version": "1.2.0"
  }
 },
 "nbformat": 4,
 "nbformat_minor": 2
}
